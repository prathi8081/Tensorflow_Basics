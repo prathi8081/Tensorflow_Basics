{
  "nbformat": 4,
  "nbformat_minor": 0,
  "metadata": {
    "colab": {
      "name": "FashionMNIST.ipynb",
      "provenance": [],
      "authorship_tag": "ABX9TyNWw0hOTYJZuy/jKKZu2BIR"
    },
    "kernelspec": {
      "name": "python3",
      "display_name": "Python 3"
    }
  },
  "cells": [
    {
      "cell_type": "code",
      "metadata": {
        "id": "P4bPAKDc8UgM",
        "colab_type": "code",
        "colab": {
          "base_uri": "https://localhost:8080/",
          "height": 35
        },
        "outputId": "7e71e27c-9ea7-489b-dab1-d6b378521ced"
      },
      "source": [
        "import tensorflow as tf\n",
        "print(tf.__version__)"
      ],
      "execution_count": 1,
      "outputs": [
        {
          "output_type": "stream",
          "text": [
            "2.2.0\n"
          ],
          "name": "stdout"
        }
      ]
    },
    {
      "cell_type": "code",
      "metadata": {
        "id": "9DhSHAcR8t3m",
        "colab_type": "code",
        "colab": {}
      },
      "source": [
        "mnist = tf.keras.datasets.fashion_mnist"
      ],
      "execution_count": 2,
      "outputs": []
    },
    {
      "cell_type": "code",
      "metadata": {
        "id": "bETPgPy98w4O",
        "colab_type": "code",
        "colab": {
          "base_uri": "https://localhost:8080/",
          "height": 156
        },
        "outputId": "fe589781-9c0a-4b1f-e986-bb55c41b05d0"
      },
      "source": [
        "(training_images, training_labels), (test_images, test_labels) = mnist.load_data()"
      ],
      "execution_count": 3,
      "outputs": [
        {
          "output_type": "stream",
          "text": [
            "Downloading data from https://storage.googleapis.com/tensorflow/tf-keras-datasets/train-labels-idx1-ubyte.gz\n",
            "32768/29515 [=================================] - 0s 0us/step\n",
            "Downloading data from https://storage.googleapis.com/tensorflow/tf-keras-datasets/train-images-idx3-ubyte.gz\n",
            "26427392/26421880 [==============================] - 0s 0us/step\n",
            "Downloading data from https://storage.googleapis.com/tensorflow/tf-keras-datasets/t10k-labels-idx1-ubyte.gz\n",
            "8192/5148 [===============================================] - 0s 0us/step\n",
            "Downloading data from https://storage.googleapis.com/tensorflow/tf-keras-datasets/t10k-images-idx3-ubyte.gz\n",
            "4423680/4422102 [==============================] - 0s 0us/step\n"
          ],
          "name": "stdout"
        }
      ]
    },
    {
      "cell_type": "code",
      "metadata": {
        "id": "u6r61kO48xFE",
        "colab_type": "code",
        "colab": {
          "base_uri": "https://localhost:8080/",
          "height": 768
        },
        "outputId": "932cbcd6-4e15-4ace-c358-4e9ca79463bf"
      },
      "source": [
        "import numpy as np\n",
        "np.set_printoptions(linewidth=200)\n",
        "import matplotlib.pyplot as plt\n",
        "plt.imshow(training_images[66])\n",
        "print(training_labels[66])\n",
        "print(training_images[66])"
      ],
      "execution_count": 6,
      "outputs": [
        {
          "output_type": "stream",
          "text": [
            "0\n",
            "[[  0   0   0   4   0   0   0   0   0   0 162 208 158 158 161 155 156 185 113   0   0   0   0   0   0   0   0   0]\n",
            " [  0   0   0   0   0   0   0   2 144 225 251 206 142 196 165 149 153 174 227 247 133   0   0   0   2   0   0   0]\n",
            " [  0   0   0   0   0   0 105 197 230 232 230 217 193 168  82 137 212 208 212 225 234 214 132   0   0   1   0   0]\n",
            " [  0   0   0   0   0 146 219 197 211 207 200 202 204 198 184 194 195 189 205 199 194 207 213 120   0   0   0   0]\n",
            " [  0   0   0   0   6 218 204 209 192 190 196 197 196 201 205 199 194 192 194 186 197 193 185 184   4   0   0   0]\n",
            " [  0   0   0   0 121 227 209 219 198 204 200 203 203 200 195 195 195 192 193 201 195 180 194 201 106   0   0   0]\n",
            " [  0   0   0   0 231 216 210 225 188 194 200 205 205 200 194 194 194 196 189 192 177 179 193 193 206   0   0   0]\n",
            " [  0   0   0  76 211 207 215 234 197 198 202 205 202 194 192 194 194 194 188 189 167 189 202 188 203  51   0   0]\n",
            " [  0   0   0 175 225 208 220 230 201 199 203 205 197 194 194 194 195 190 188 188 158 203 212 197 222 135   0   0]\n",
            " [  0   0   0   0 114 212 245 238 214 202 208 205 195 188 189 189 192 192 194 184 153 228 235 179  69   0   0   0]\n",
            " [  0   0   0   0   0   0 176 229 214 210 194 188 184 178 178 180 181 181 173 168 164 233 136   0   0   0   0   0]\n",
            " [  0   0   0   0   0   0   0  36 226 206 196 186 193 188 186 188 190 196 196 190 207   0   0   0   0   0   0   0]\n",
            " [  0   0   0   0   0   4   0   4 255 210 218 192 194 192 187 190 199 193 206 200 218   0   0   2   0   0   0   0]\n",
            " [  0   0   0   0   0   0   0   0 203 215 211 193 195 193 187 187 199 187 198 198 206   0   0   2   0   0   0   0]\n",
            " [  0   0   0   0   0   1   0   0 192 224 205 196 194 192 189 183 199 193 195 204 199   0   0   2   0   0   0   0]\n",
            " [  0   0   0   0   0   0   0   0 188 228 199 197 193 190 190 183 196 200 179 209 195   0   0   1   0   0   0   0]\n",
            " [  0   0   0   0   0   1   0   0 193 220 190 198 194 194 192 185 189 209 168 214 177   0   0   0   0   0   0   0]\n",
            " [  0   0   0   0   0   3   0   0 211 209 196 199 195 194 192 186 187 214 170 211 198   0   0   0   0   0   0   0]\n",
            " [  0   0   0   0   0   3   0  23 227 201 199 199 195 194 192 185 186 214 187 192 197   0   0   1   0   0   0   0]\n",
            " [  0   0   0   0   0   3   0  67 228 195 202 200 197 197 196 188 185 202 208 179 216   2   0   4   0   0   0   0]\n",
            " [  0   0   0   0   0   2   0 117 225 198 203 199 198 200 199 190 185 195 219 176 213  60   0   4   0   0   0   0]\n",
            " [  0   0   0   0   0   0   0 156 218 199 201 199 198 200 200 190 186 192 216 189 195  96   0   3   0   0   0   0]\n",
            " [  0   0   0   0   0   0   0 182 216 201 201 197 198 201 201 190 187 189 209 201 193 115   0   1   0   0   0   0]\n",
            " [  0   0   0   0   0   0   0 197 213 200 198 200 198 198 207 192 184 193 189 206 200 124   0   0   0   0   0   0]\n",
            " [  0   0   0   0   1   0   0 181 212 198 197 202 204 203 205 198 183 196 212 208 212 149   0   0   0   0   0   0]\n",
            " [  0   0   0   0   2   0   0 193 207 199 197 202 210 216 212 206 184 181 213 211 214 157   0   0   0   0   0   0]\n",
            " [  0   0   0   0   3   0   0 216 214 207 212 209 211 214 210 204 194 183 206 212 220 226   0   0   1   0   0   0]\n",
            " [  0   0   0   0   2   0   0 118 137 152 176 190 204 207 215 209 197 184 169 152 139  90   0   0   1   0   0   0]]\n"
          ],
          "name": "stdout"
        },
        {
          "output_type": "display_data",
          "data": {
            "image/png": "[encoded data removed]",
            "text/plain": [
              "<Figure size 432x288 with 1 Axes>"
            ]
          },
          "metadata": {
            "tags": [],
            "needs_background": "light"
          }
        }
      ]
    },
    {
      "cell_type": "code",
      "metadata": {
        "id": "RjDa0syw8xIW",
        "colab_type": "code",
        "colab": {}
      },
      "source": [
        "training_images  = training_images / 255.0\n",
        "test_images = test_images / 255.0"
      ],
      "execution_count": 7,
      "outputs": []
    },
    {
      "cell_type": "code",
      "metadata": {
        "id": "aisCDsFT9Fcn",
        "colab_type": "code",
        "colab": {}
      },
      "source": [
        "model = tf.keras.models.Sequential([tf.keras.layers.Flatten(), \n",
        "                                    tf.keras.layers.Dense(128, activation=tf.nn.relu), \n",
        "                                    tf.keras.layers.Dense(10, activation=tf.nn.softmax)])"
      ],
      "execution_count": 8,
      "outputs": []
    },
    {
      "cell_type": "code",
      "metadata": {
        "id": "jJvKi71_9JPo",
        "colab_type": "code",
        "colab": {
          "base_uri": "https://localhost:8080/",
          "height": 277
        },
        "outputId": "b8499d03-a6b6-40d1-f8d3-5efc119edf43"
      },
      "source": [
        "class myCallback(tf.keras.callbacks.Callback):\n",
        "  def on_epoch_end(self, epoch, logs={}):\n",
        "    if(logs.get('accuracy')>0.9):\n",
        "      print(\"\\nReached 90% accuracy so cancelling training!\")\n",
        "      self.model.stop_training = True\n",
        "\n",
        "callbacks = myCallback()\n",
        "\n",
        "model.compile(optimizer = tf.optimizers.Adam(),\n",
        "              loss = 'sparse_categorical_crossentropy',\n",
        "              metrics=['accuracy'])\n",
        "\n",
        "model.fit(training_images, training_labels, epochs=10, callbacks=[callbacks])"
      ],
      "execution_count": 10,
      "outputs": [
        {
          "output_type": "stream",
          "text": [
            "Epoch 1/10\n",
            "1875/1875 [==============================] - 4s 2ms/step - loss: 0.3772 - accuracy: 0.8629\n",
            "Epoch 2/10\n",
            "1875/1875 [==============================] - 4s 2ms/step - loss: 0.3352 - accuracy: 0.8771\n",
            "Epoch 3/10\n",
            "1875/1875 [==============================] - 4s 2ms/step - loss: 0.3103 - accuracy: 0.8860\n",
            "Epoch 4/10\n",
            "1875/1875 [==============================] - 4s 2ms/step - loss: 0.2933 - accuracy: 0.8928\n",
            "Epoch 5/10\n",
            "1875/1875 [==============================] - 4s 2ms/step - loss: 0.2780 - accuracy: 0.8978\n",
            "Epoch 6/10\n",
            "1871/1875 [============================>.] - ETA: 0s - loss: 0.2661 - accuracy: 0.9020\n",
            "Reached 90% accuracy so cancelling training!\n",
            "1875/1875 [==============================] - 4s 2ms/step - loss: 0.2662 - accuracy: 0.9019\n"
          ],
          "name": "stdout"
        },
        {
          "output_type": "execute_result",
          "data": {
            "text/plain": [
              "<tensorflow.python.keras.callbacks.History at 0x7f91c44830b8>"
            ]
          },
          "metadata": {
            "tags": []
          },
          "execution_count": 10
        }
      ]
    },
    {
      "cell_type": "code",
      "metadata": {
        "id": "NspAAugx9dI5",
        "colab_type": "code",
        "colab": {
          "base_uri": "https://localhost:8080/",
          "height": 52
        },
        "outputId": "5469ffb6-cdd1-4560-88f7-588731b3dd70"
      },
      "source": [
        "model.evaluate(test_images, test_labels)"
      ],
      "execution_count": 11,
      "outputs": [
        {
          "output_type": "stream",
          "text": [
            "313/313 [==============================] - 0s 1ms/step - loss: 0.3419 - accuracy: 0.8812\n"
          ],
          "name": "stdout"
        },
        {
          "output_type": "execute_result",
          "data": {
            "text/plain": [
              "[0.34189119935035706, 0.8812000155448914]"
            ]
          },
          "metadata": {
            "tags": []
          },
          "execution_count": 11
        }
      ]
    },
    {
      "cell_type": "code",
      "metadata": {
        "id": "z7YWe1um9t19",
        "colab_type": "code",
        "colab": {}
      },
      "source": [
        ""
      ],
      "execution_count": null,
      "outputs": []
    }
  ]
}